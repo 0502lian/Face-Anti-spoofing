{
 "cells": [
  {
   "cell_type": "code",
   "execution_count": null,
   "metadata": {},
   "outputs": [],
   "source": [
    "from fastai.vision import *\n",
    "import os \n"
   ]
  },
  {
   "cell_type": "code",
   "execution_count": null,
   "metadata": {},
   "outputs": [],
   "source": [
    "fake_dir = 'data/faces/depth/train/fake/'\n",
    "true_dir = 'data/faces/depth/train/true/'"
   ]
  },
  {
   "cell_type": "code",
   "execution_count": null,
   "metadata": {
    "scrolled": true
   },
   "outputs": [],
   "source": [
    "i = 0;\n",
    "\n",
    "with open('train_list.txt', 'r') as f:  \n",
    "    for line in f.readlines():\n",
    "                line = line.strip() \n",
    "                line_lst = line.split() \n",
    "                \n",
    "                depth_path = line_lst[1]\n",
    "                full_depth_path = '/home/lian/projects/fastai/data/faces/'+ depth_path\n",
    "                print(full_depth_path)\n",
    "                new_name = color_path.replace('/','_')\n",
    "                print(new_name)\n",
    "                \n",
    "                             \n",
    "                label = line_lst[3]\n",
    "                \n",
    "                print(label)\n",
    "\n",
    "                if 0 == int(label):\n",
    "                    cmd = 'cp '+full_depth_path+' '+fake_dir+new_name+' -rf'\n",
    "                    tmp = os.popen(cmd).readlines()  \n",
    "                else:\n",
    "                    cmd = 'cp '+full_depth_path+' '+true_dir+new_name+' -rf'\n",
    "                    tmp = os.popen(cmd).readlines()\n",
    "                    \n",
    "                #i+=1;\n",
    "                #if i>1:\n",
    "                #   break;"
   ]
  },
  {
   "cell_type": "code",
   "execution_count": null,
   "metadata": {},
   "outputs": [],
   "source": []
  },
  {
   "cell_type": "code",
   "execution_count": null,
   "metadata": {},
   "outputs": [],
   "source": []
  }
 ],
 "metadata": {
  "kernelspec": {
   "display_name": "Python 3",
   "language": "python",
   "name": "python3"
  },
  "language_info": {
   "codemirror_mode": {
    "name": "ipython",
    "version": 3
   },
   "file_extension": ".py",
   "mimetype": "text/x-python",
   "name": "python",
   "nbconvert_exporter": "python",
   "pygments_lexer": "ipython3",
   "version": "3.6.6"
  }
 },
 "nbformat": 4,
 "nbformat_minor": 2
}
