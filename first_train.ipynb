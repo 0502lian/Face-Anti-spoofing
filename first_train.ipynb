{
 "cells": [
  {
   "cell_type": "code",
   "execution_count": 1,
   "metadata": {},
   "outputs": [],
   "source": [
    "from fastai.script import *\n",
    "\n",
    "from fastai.vision import *\n",
    "\n",
    "from fastai.callbacks import *\n",
    "\n",
    "from fastai.distributed import *\n",
    "\n",
    "from fastai.callbacks.tracker import *\n",
    "\n",
    "from torchvision.models import vgg16\n",
    "import os \n"
   ]
  },
  {
   "cell_type": "markdown",
   "metadata": {},
   "source": [
    "数据集收集"
   ]
  },
  {
   "cell_type": "code",
   "execution_count": 2,
   "metadata": {},
   "outputs": [
    {
     "data": {
      "text/plain": [
       "[PosixPath('data/faces/depth/best2_depth_vgg16.txt'),\n",
       " PosixPath('data/faces/depth/best0.9983.pkl'),\n",
       " PosixPath('data/faces/depth/best0.99854.pkl'),\n",
       " PosixPath('data/faces/depth/train-more'),\n",
       " PosixPath('data/faces/depth/all_correct_depth_result34.txt'),\n",
       " PosixPath('data/faces/depth/train'),\n",
       " PosixPath('data/faces/depth/2try_depth_result34.txt'),\n",
       " PosixPath('data/faces/depth/free_depth_result34.txt'),\n",
       " PosixPath('data/faces/depth/223_depth_result34.txt'),\n",
       " PosixPath('data/faces/depth/compare_depth_vgg16_best0.998751.txt'),\n",
       " PosixPath('data/faces/depth/export.pkl'),\n",
       " PosixPath('data/faces/depth/models'),\n",
       " PosixPath('data/faces/depth/best0.9984.pkl'),\n",
       " PosixPath('data/faces/depth/best_depth_vgg16.txt'),\n",
       " PosixPath('data/faces/depth/depth_result34.txt'),\n",
       " PosixPath('data/faces/depth/best.pkl'),\n",
       " PosixPath('data/faces/depth/best0.998751.pkl'),\n",
       " PosixPath('data/faces/depth/compare_depth_vgg16_0.9983.txt'),\n",
       " PosixPath('data/faces/depth/val')]"
      ]
     },
     "execution_count": 2,
     "metadata": {},
     "output_type": "execute_result"
    }
   ],
   "source": [
    "path = Path('./data/faces/depth/')\n",
    "path.ls()"
   ]
  },
  {
   "cell_type": "code",
   "execution_count": null,
   "metadata": {},
   "outputs": [],
   "source": []
  },
  {
   "cell_type": "code",
   "execution_count": 3,
   "metadata": {},
   "outputs": [],
   "source": [
    "#path = Path('data/bears')\n"
   ]
  },
  {
   "cell_type": "code",
   "execution_count": 4,
   "metadata": {},
   "outputs": [],
   "source": [
    "#path.ls()"
   ]
  },
  {
   "cell_type": "code",
   "execution_count": 5,
   "metadata": {},
   "outputs": [],
   "source": [
    "np.random.seed(42)\n",
    "data = ImageDataBunch.from_folder(path, train=\"train\", valid=\"val\",\n",
    "        ds_tfms=get_transforms(max_rotate=25, max_zoom=1.3,  max_warp=0.3, max_lighting=0.,\n",
    "                      p_affine=1., p_lighting=1.), padding_mode='reflection',size=28, bs=1024, num_workers=2).normalize(imagenet_stats)\n",
    "\n",
    "#max_lighting=0.,"
   ]
  },
  {
   "cell_type": "code",
   "execution_count": 6,
   "metadata": {},
   "outputs": [
    {
     "data": {
      "text/plain": [
       "['fake', 'true']"
      ]
     },
     "execution_count": 6,
     "metadata": {},
     "output_type": "execute_result"
    }
   ],
   "source": [
    "data.classes"
   ]
  },
  {
   "cell_type": "code",
   "execution_count": null,
   "metadata": {},
   "outputs": [],
   "source": []
  },
  {
   "cell_type": "code",
   "execution_count": 7,
   "metadata": {},
   "outputs": [
    {
     "data": {
      "image/png": "[encoded data removed]",
      "text/plain": [
       "<Figure size 504x576 with 9 Axes>"
      ]
     },
     "metadata": {
      "needs_background": "light"
     },
     "output_type": "display_data"
    }
   ],
   "source": [
    "data.show_batch(rows=3, figsize=(7,8))"
   ]
  },
  {
   "cell_type": "code",
   "execution_count": 8,
   "metadata": {},
   "outputs": [
    {
     "data": {
      "text/plain": [
       "(['fake', 'true'], 2, 29266, 9608)"
      ]
     },
     "execution_count": 8,
     "metadata": {},
     "output_type": "execute_result"
    }
   ],
   "source": [
    "data.classes, data.c, len(data.train_ds), len(data.valid_ds)"
   ]
  },
  {
   "cell_type": "code",
   "execution_count": null,
   "metadata": {},
   "outputs": [],
   "source": []
  },
  {
   "cell_type": "code",
   "execution_count": 9,
   "metadata": {},
   "outputs": [],
   "source": [
    "learn = create_cnn(data, vgg16, metrics=accuracy, ps=0.7, bn_final=True)"
   ]
  },
  {
   "cell_type": "code",
   "execution_count": null,
   "metadata": {},
   "outputs": [],
   "source": []
  },
  {
   "cell_type": "code",
   "execution_count": 10,
   "metadata": {
    "scrolled": false
   },
   "outputs": [
    {
     "data": {
      "text/html": [
       "Total time: 02:41 <p><table style='width:300px; margin-bottom:10px'>\n",
       "  <tr>\n",
       "    <th>epoch</th>\n",
       "    <th>train_loss</th>\n",
       "    <th>valid_loss</th>\n",
       "    <th>accuracy</th>\n",
       "  </tr>\n",
       "  <tr>\n",
       "    <th>1</th>\n",
       "    <th>0.584251</th>\n",
       "    <th>0.377510</th>\n",
       "    <th>0.856474</th>\n",
       "  </tr>\n",
       "  <tr>\n",
       "    <th>2</th>\n",
       "    <th>0.510331</th>\n",
       "    <th>0.313093</th>\n",
       "    <th>0.896232</th>\n",
       "  </tr>\n",
       "  <tr>\n",
       "    <th>3</th>\n",
       "    <th>0.457794</th>\n",
       "    <th>0.296825</th>\n",
       "    <th>0.904871</th>\n",
       "  </tr>\n",
       "  <tr>\n",
       "    <th>4</th>\n",
       "    <th>0.422263</th>\n",
       "    <th>0.292073</th>\n",
       "    <th>0.916424</th>\n",
       "  </tr>\n",
       "  <tr>\n",
       "    <th>5</th>\n",
       "    <th>0.401199</th>\n",
       "    <th>0.301278</th>\n",
       "    <th>0.921107</th>\n",
       "  </tr>\n",
       "</table>\n"
      ],
      "text/plain": [
       "<IPython.core.display.HTML object>"
      ]
     },
     "metadata": {},
     "output_type": "display_data"
    }
   ],
   "source": [
    "learn.fit_one_cycle(5)"
   ]
  },
  {
   "cell_type": "code",
   "execution_count": null,
   "metadata": {},
   "outputs": [],
   "source": []
  },
  {
   "cell_type": "code",
   "execution_count": 11,
   "metadata": {},
   "outputs": [],
   "source": [
    "learn.unfreeze()"
   ]
  },
  {
   "cell_type": "code",
   "execution_count": 12,
   "metadata": {
    "scrolled": true
   },
   "outputs": [
    {
     "data": {
      "text/html": [
       "Total time: 10:46 <p><table style='width:300px; margin-bottom:10px'>\n",
       "  <tr>\n",
       "    <th>epoch</th>\n",
       "    <th>train_loss</th>\n",
       "    <th>valid_loss</th>\n",
       "    <th>accuracy</th>\n",
       "  </tr>\n",
       "  <tr>\n",
       "    <th>1</th>\n",
       "    <th>0.364440</th>\n",
       "    <th>0.298465</th>\n",
       "    <th>0.927040</th>\n",
       "  </tr>\n",
       "  <tr>\n",
       "    <th>2</th>\n",
       "    <th>0.348594</th>\n",
       "    <th>0.267667</th>\n",
       "    <th>0.947544</th>\n",
       "  </tr>\n",
       "  <tr>\n",
       "    <th>3</th>\n",
       "    <th>0.327501</th>\n",
       "    <th>0.228008</th>\n",
       "    <th>0.975229</th>\n",
       "  </tr>\n",
       "  <tr>\n",
       "    <th>4</th>\n",
       "    <th>0.307581</th>\n",
       "    <th>0.217175</th>\n",
       "    <th>0.985325</th>\n",
       "  </tr>\n",
       "  <tr>\n",
       "    <th>5</th>\n",
       "    <th>0.290626</th>\n",
       "    <th>0.207048</th>\n",
       "    <th>0.990737</th>\n",
       "  </tr>\n",
       "  <tr>\n",
       "    <th>6</th>\n",
       "    <th>0.276815</th>\n",
       "    <th>0.205050</th>\n",
       "    <th>0.993443</th>\n",
       "  </tr>\n",
       "  <tr>\n",
       "    <th>7</th>\n",
       "    <th>0.265273</th>\n",
       "    <th>0.201840</th>\n",
       "    <th>0.994692</th>\n",
       "  </tr>\n",
       "  <tr>\n",
       "    <th>8</th>\n",
       "    <th>0.255677</th>\n",
       "    <th>0.198958</th>\n",
       "    <th>0.996357</th>\n",
       "  </tr>\n",
       "  <tr>\n",
       "    <th>9</th>\n",
       "    <th>0.247884</th>\n",
       "    <th>0.198337</th>\n",
       "    <th>0.996149</th>\n",
       "  </tr>\n",
       "  <tr>\n",
       "    <th>10</th>\n",
       "    <th>0.241270</th>\n",
       "    <th>0.200934</th>\n",
       "    <th>0.995525</th>\n",
       "  </tr>\n",
       "  <tr>\n",
       "    <th>11</th>\n",
       "    <th>0.235498</th>\n",
       "    <th>0.202226</th>\n",
       "    <th>0.993755</th>\n",
       "  </tr>\n",
       "  <tr>\n",
       "    <th>12</th>\n",
       "    <th>0.230452</th>\n",
       "    <th>0.195917</th>\n",
       "    <th>0.998231</th>\n",
       "  </tr>\n",
       "  <tr>\n",
       "    <th>13</th>\n",
       "    <th>0.226631</th>\n",
       "    <th>0.198896</th>\n",
       "    <th>0.997502</th>\n",
       "  </tr>\n",
       "  <tr>\n",
       "    <th>14</th>\n",
       "    <th>0.223066</th>\n",
       "    <th>0.202749</th>\n",
       "    <th>0.994484</th>\n",
       "  </tr>\n",
       "  <tr>\n",
       "    <th>15</th>\n",
       "    <th>0.220343</th>\n",
       "    <th>0.200600</th>\n",
       "    <th>0.996878</th>\n",
       "  </tr>\n",
       "  <tr>\n",
       "    <th>16</th>\n",
       "    <th>0.218237</th>\n",
       "    <th>0.202854</th>\n",
       "    <th>0.995837</th>\n",
       "  </tr>\n",
       "  <tr>\n",
       "    <th>17</th>\n",
       "    <th>0.216602</th>\n",
       "    <th>0.202938</th>\n",
       "    <th>0.997502</th>\n",
       "  </tr>\n",
       "  <tr>\n",
       "    <th>18</th>\n",
       "    <th>0.215289</th>\n",
       "    <th>0.208412</th>\n",
       "    <th>0.994276</th>\n",
       "  </tr>\n",
       "  <tr>\n",
       "    <th>19</th>\n",
       "    <th>0.214484</th>\n",
       "    <th>0.209266</th>\n",
       "    <th>0.995004</th>\n",
       "  </tr>\n",
       "  <tr>\n",
       "    <th>20</th>\n",
       "    <th>0.214191</th>\n",
       "    <th>0.210160</th>\n",
       "    <th>0.995212</th>\n",
       "  </tr>\n",
       "</table>\n"
      ],
      "text/plain": [
       "<IPython.core.display.HTML object>"
      ]
     },
     "metadata": {},
     "output_type": "display_data"
    },
    {
     "name": "stdout",
     "output_type": "stream",
     "text": [
      "Better model found at epoch 1 with accuracy value: 0.9270399808883667.\n",
      "Better model found at epoch 2 with accuracy value: 0.947543740272522.\n",
      "Better model found at epoch 3 with accuracy value: 0.9752289652824402.\n",
      "Better model found at epoch 4 with accuracy value: 0.9853247404098511.\n",
      "Better model found at epoch 5 with accuracy value: 0.9907369017601013.\n",
      "Better model found at epoch 6 with accuracy value: 0.993442952632904.\n",
      "Better model found at epoch 7 with accuracy value: 0.9946919083595276.\n",
      "Better model found at epoch 8 with accuracy value: 0.9963572025299072.\n",
      "Better model found at epoch 12 with accuracy value: 0.9982306361198425.\n"
     ]
    }
   ],
   "source": [
    "learn.fit_one_cycle(20, max_lr=slice(3e-5,3e-4), callbacks=[SaveModelCallback(learn, every='improvement', monitor='accuracy', name='best')])#1e-6,1e-3 (3e-5,3e-4)"
   ]
  },
  {
   "cell_type": "code",
   "execution_count": 13,
   "metadata": {},
   "outputs": [],
   "source": [
    "#learn.fit_one_cycle(10, max_lr=slice(3e-5,3e-5), callbacks=[SaveModelCallback(learn, every='improvement', monitor='accuracy', name='best')])#1e-6,1e-3 (3e-5,3e-4)"
   ]
  },
  {
   "cell_type": "markdown",
   "metadata": {},
   "source": [
    "测试验证\n"
   ]
  },
  {
   "cell_type": "code",
   "execution_count": 14,
   "metadata": {},
   "outputs": [],
   "source": [
    "interp = ClassificationInterpretation.from_learner(learn)"
   ]
  },
  {
   "cell_type": "code",
   "execution_count": 15,
   "metadata": {},
   "outputs": [
    {
     "data": {
      "image/png": "[encoded data removed]",
      "text/plain": [
       "<Figure size 432x288 with 1 Axes>"
      ]
     },
     "metadata": {
      "needs_background": "light"
     },
     "output_type": "display_data"
    }
   ],
   "source": [
    "interp.plot_confusion_matrix()"
   ]
  },
  {
   "cell_type": "code",
   "execution_count": 16,
   "metadata": {},
   "outputs": [
    {
     "data": {
      "text/plain": [
       "[('fake', 'true', 16), ('true', 'fake', 1)]"
      ]
     },
     "execution_count": 16,
     "metadata": {},
     "output_type": "execute_result"
    }
   ],
   "source": [
    "interp.most_confused()"
   ]
  },
  {
   "cell_type": "code",
   "execution_count": 17,
   "metadata": {},
   "outputs": [
    {
     "data": {
      "image/png": "[encoded data removed]",
      "text/plain": [
       "<Figure size 1080x792 with 20 Axes>"
      ]
     },
     "metadata": {
      "needs_background": "light"
     },
     "output_type": "display_data"
    }
   ],
   "source": [
    "interp.plot_top_losses(20, figsize=(15,11))"
   ]
  },
  {
   "cell_type": "code",
   "execution_count": 18,
   "metadata": {},
   "outputs": [],
   "source": [
    "learn.load('best');"
   ]
  },
  {
   "cell_type": "code",
   "execution_count": 19,
   "metadata": {},
   "outputs": [],
   "source": [
    "learn.export('best.pkl')"
   ]
  },
  {
   "cell_type": "code",
   "execution_count": null,
   "metadata": {},
   "outputs": [],
   "source": []
  }
 ],
 "metadata": {
  "kernelspec": {
   "display_name": "Python 3",
   "language": "python",
   "name": "python3"
  },
  "language_info": {
   "codemirror_mode": {
    "name": "ipython",
    "version": 3
   },
   "file_extension": ".py",
   "mimetype": "text/x-python",
   "name": "python",
   "nbconvert_exporter": "python",
   "pygments_lexer": "ipython3",
   "version": "3.6.6"
  }
 },
 "nbformat": 4,
 "nbformat_minor": 2
}
