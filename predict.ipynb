{
 "cells": [
  {
   "cell_type": "code",
   "execution_count": 1,
   "metadata": {},
   "outputs": [],
   "source": [
    "from fastai.vision import *\n",
    "import os "
   ]
  },
  {
   "cell_type": "code",
   "execution_count": null,
   "metadata": {},
   "outputs": [],
   "source": []
  },
  {
   "cell_type": "code",
   "execution_count": 2,
   "metadata": {},
   "outputs": [
    {
     "data": {
      "text/plain": [
       "[PosixPath('data/faces/depth/best2_depth_vgg16.txt'),\n",
       " PosixPath('data/faces/depth/best0.9983.pkl'),\n",
       " PosixPath('data/faces/depth/best0.99854.pkl'),\n",
       " PosixPath('data/faces/depth/train-more'),\n",
       " PosixPath('data/faces/depth/all_correct_depth_result34.txt'),\n",
       " PosixPath('data/faces/depth/train'),\n",
       " PosixPath('data/faces/depth/2try_depth_result34.txt'),\n",
       " PosixPath('data/faces/depth/free_depth_result34.txt'),\n",
       " PosixPath('data/faces/depth/223_depth_result34.txt'),\n",
       " PosixPath('data/faces/depth/compare_depth_vgg16_best0.998751.txt'),\n",
       " PosixPath('data/faces/depth/export.pkl'),\n",
       " PosixPath('data/faces/depth/models'),\n",
       " PosixPath('data/faces/depth/best0.9984.pkl'),\n",
       " PosixPath('data/faces/depth/best_depth_vgg16.txt'),\n",
       " PosixPath('data/faces/depth/depth_result34.txt'),\n",
       " PosixPath('data/faces/depth/best.pkl'),\n",
       " PosixPath('data/faces/depth/best0.998751.pkl'),\n",
       " PosixPath('data/faces/depth/compare_depth_vgg16_0.9983.txt'),\n",
       " PosixPath('data/faces/depth/val')]"
      ]
     },
     "execution_count": 2,
     "metadata": {},
     "output_type": "execute_result"
    }
   ],
   "source": [
    "path = Path('./data/faces/depth/')\n",
    "path.ls()"
   ]
  },
  {
   "cell_type": "code",
   "execution_count": 3,
   "metadata": {},
   "outputs": [],
   "source": [
    "learn = load_learner(path,'best0.998751.pkl')"
   ]
  },
  {
   "cell_type": "code",
   "execution_count": 4,
   "metadata": {},
   "outputs": [],
   "source": [
    "i = 0;\n",
    "with open(path/'..'/'test_public_list.txt', 'r') as f:\n",
    "    for line in f.readlines():\n",
    "                line = line.strip() # 去掉每行头尾空白\n",
    "                line_lst = line.split() # 按空白符分割\n",
    "                \n",
    "                depth_path = line_lst[1]\n",
    "                full_depth_path = '/home/lian/projects/fastai/data/faces/'+ depth_path\n",
    "                \n",
    "                img = open_image(full_depth_path)\n",
    "                pred_class,pred_idx,outputs = learn.predict(img)\n",
    "                \n",
    "               \n",
    "                file = '/home/lian/projects/fastai/data/faces/depth/last_result_for_Test.txt'\n",
    "                with open(file, 'a') as f:\n",
    "                        f.write(line)\n",
    "                        f.write('  ')\n",
    "                        f.write(str(outputs.numpy()[1]))\n",
    "                        f.write('\\n')\n",
    "                f.close()\n",
    "                #i+=1;\n",
    "                #if i>1:\n",
    "                #   break;"
   ]
  },
  {
   "cell_type": "code",
   "execution_count": 5,
   "metadata": {},
   "outputs": [
    {
     "data": {
      "text/plain": [
       "0.19962047"
      ]
     },
     "execution_count": 5,
     "metadata": {},
     "output_type": "execute_result"
    }
   ],
   "source": [
    "outputs.numpy()[1]\n"
   ]
  },
  {
   "cell_type": "code",
   "execution_count": null,
   "metadata": {},
   "outputs": [],
   "source": []
  },
  {
   "cell_type": "code",
   "execution_count": null,
   "metadata": {},
   "outputs": [],
   "source": []
  }
 ],
 "metadata": {
  "kernelspec": {
   "display_name": "Python 3",
   "language": "python",
   "name": "python3"
  },
  "language_info": {
   "codemirror_mode": {
    "name": "ipython",
    "version": 3
   },
   "file_extension": ".py",
   "mimetype": "text/x-python",
   "name": "python",
   "nbconvert_exporter": "python",
   "pygments_lexer": "ipython3",
   "version": "3.6.6"
  }
 },
 "nbformat": 4,
 "nbformat_minor": 2
}
